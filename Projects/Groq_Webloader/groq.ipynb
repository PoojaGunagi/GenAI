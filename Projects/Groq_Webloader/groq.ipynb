{
 "cells": [
  {
   "cell_type": "code",
   "execution_count": 1,
   "metadata": {},
   "outputs": [
    {
     "name": "stdout",
     "output_type": "stream",
     "text": [
      "Collecting cassio\n",
      "  Downloading cassio-0.1.7-py3-none-any.whl.metadata (4.1 kB)\n",
      "Collecting cassandra-driver<4.0.0,>=3.28.0 (from cassio)\n",
      "  Downloading cassandra_driver-3.29.1-cp312-cp312-win_amd64.whl.metadata (6.0 kB)\n",
      "Requirement already satisfied: numpy>=1.0 in c:\\users\\pgunagi\\appdata\\local\\programs\\python\\python312\\lib\\site-packages (from cassio) (1.26.4)\n",
      "Requirement already satisfied: requests<3.0.0,>=2.31.0 in c:\\users\\pgunagi\\appdata\\local\\programs\\python\\python312\\lib\\site-packages (from cassio) (2.31.0)\n",
      "Collecting geomet<0.3,>=0.1 (from cassandra-driver<4.0.0,>=3.28.0->cassio)\n",
      "  Downloading geomet-0.2.1.post1-py3-none-any.whl.metadata (1.0 kB)\n",
      "Requirement already satisfied: charset-normalizer<4,>=2 in c:\\users\\pgunagi\\appdata\\local\\programs\\python\\python312\\lib\\site-packages (from requests<3.0.0,>=2.31.0->cassio) (3.3.2)\n",
      "Requirement already satisfied: idna<4,>=2.5 in c:\\users\\pgunagi\\appdata\\local\\programs\\python\\python312\\lib\\site-packages (from requests<3.0.0,>=2.31.0->cassio) (3.7)\n",
      "Requirement already satisfied: urllib3<3,>=1.21.1 in c:\\users\\pgunagi\\appdata\\local\\programs\\python\\python312\\lib\\site-packages (from requests<3.0.0,>=2.31.0->cassio) (2.2.1)\n",
      "Requirement already satisfied: certifi>=2017.4.17 in c:\\users\\pgunagi\\appdata\\local\\programs\\python\\python312\\lib\\site-packages (from requests<3.0.0,>=2.31.0->cassio) (2024.2.2)\n",
      "Requirement already satisfied: click in c:\\users\\pgunagi\\appdata\\local\\programs\\python\\python312\\lib\\site-packages (from geomet<0.3,>=0.1->cassandra-driver<4.0.0,>=3.28.0->cassio) (8.1.7)\n",
      "Requirement already satisfied: six in c:\\users\\pgunagi\\appdata\\local\\programs\\python\\python312\\lib\\site-packages (from geomet<0.3,>=0.1->cassandra-driver<4.0.0,>=3.28.0->cassio) (1.16.0)\n",
      "Requirement already satisfied: colorama in c:\\users\\pgunagi\\appdata\\local\\programs\\python\\python312\\lib\\site-packages (from click->geomet<0.3,>=0.1->cassandra-driver<4.0.0,>=3.28.0->cassio) (0.4.6)\n",
      "Downloading cassio-0.1.7-py3-none-any.whl (44 kB)\n",
      "   ---------------------------------------- 0.0/44.9 kB ? eta -:--:--\n",
      "   ---------------------------------------- 44.9/44.9 kB 738.1 kB/s eta 0:00:00\n",
      "Downloading cassandra_driver-3.29.1-cp312-cp312-win_amd64.whl (2.6 MB)\n",
      "   ---------------------------------------- 0.0/2.6 MB ? eta -:--:--\n",
      "   -- ------------------------------------- 0.1/2.6 MB 4.2 MB/s eta 0:00:01\n",
      "   ----- ---------------------------------- 0.3/2.6 MB 4.1 MB/s eta 0:00:01\n",
      "   -------- ------------------------------- 0.5/2.6 MB 4.3 MB/s eta 0:00:01\n",
      "   ----------- ---------------------------- 0.8/2.6 MB 4.5 MB/s eta 0:00:01\n",
      "   --------------- ------------------------ 1.0/2.6 MB 4.8 MB/s eta 0:00:01\n",
      "   ------------------- -------------------- 1.3/2.6 MB 4.7 MB/s eta 0:00:01\n",
      "   ------------------------ --------------- 1.6/2.6 MB 5.0 MB/s eta 0:00:01\n",
      "   ---------------------------- ----------- 1.9/2.6 MB 5.2 MB/s eta 0:00:01\n",
      "   --------------------------------- ------ 2.2/2.6 MB 5.3 MB/s eta 0:00:01\n",
      "   ---------------------------------------  2.6/2.6 MB 5.9 MB/s eta 0:00:01\n",
      "   ---------------------------------------- 2.6/2.6 MB 5.6 MB/s eta 0:00:00\n",
      "Downloading geomet-0.2.1.post1-py3-none-any.whl (18 kB)\n",
      "Installing collected packages: geomet, cassandra-driver, cassio\n",
      "Successfully installed cassandra-driver-3.29.1 cassio-0.1.7 geomet-0.2.1.post1\n",
      "Note: you may need to restart the kernel to use updated packages.\n"
     ]
    }
   ],
   "source": [
    "pip install cassio\n"
   ]
  },
  {
   "cell_type": "code",
   "execution_count": 2,
   "metadata": {},
   "outputs": [
    {
     "ename": "DependencyException",
     "evalue": "Unable to load a default connection class\nThe following exceptions were observed: \n - The C extension needed to use libev was not found.  This probably means that you didn't have the required build dependencies when installing the driver.  See http://datastax.github.io/python-driver/installation.html#c-extensions for instructions on installing build dependencies and building the C extension.\n - Unable to import asyncore module.  Note that this module has been removed in Python 3.12 so when using the driver with this version (or anything newer) you will need to use one of the other event loop implementations.",
     "output_type": "error",
     "traceback": [
      "\u001b[1;31m---------------------------------------------------------------------------\u001b[0m",
      "\u001b[1;31mDependencyException\u001b[0m                       Traceback (most recent call last)",
      "Cell \u001b[1;32mIn[2], line 1\u001b[0m\n\u001b[1;32m----> 1\u001b[0m \u001b[38;5;28;01mimport\u001b[39;00m \u001b[38;5;21;01mcassio\u001b[39;00m\n",
      "File \u001b[1;32mc:\\Users\\PGUNAGI\\AppData\\Local\\Programs\\Python\\Python312\\Lib\\site-packages\\cassio\\__init__.py:1\u001b[0m\n\u001b[1;32m----> 1\u001b[0m \u001b[38;5;28;01mfrom\u001b[39;00m \u001b[38;5;21;01mcassio\u001b[39;00m\u001b[38;5;21;01m.\u001b[39;00m\u001b[38;5;21;01mconfig\u001b[39;00m \u001b[38;5;28;01mimport\u001b[39;00m init\n\u001b[0;32m      3\u001b[0m __all__ \u001b[38;5;241m=\u001b[39m [\n\u001b[0;32m      4\u001b[0m     \u001b[38;5;124m\"\u001b[39m\u001b[38;5;124minit\u001b[39m\u001b[38;5;124m\"\u001b[39m,\n\u001b[0;32m      5\u001b[0m ]\n",
      "File \u001b[1;32mc:\\Users\\PGUNAGI\\AppData\\Local\\Programs\\Python\\Python312\\Lib\\site-packages\\cassio\\config\\__init__.py:7\u001b[0m\n\u001b[0;32m      4\u001b[0m \u001b[38;5;28;01mfrom\u001b[39;00m \u001b[38;5;21;01mtyping\u001b[39;00m \u001b[38;5;28;01mimport\u001b[39;00m Any, Dict, List, Optional, Union\n\u001b[0;32m      6\u001b[0m \u001b[38;5;28;01mfrom\u001b[39;00m \u001b[38;5;21;01mcassandra\u001b[39;00m\u001b[38;5;21;01m.\u001b[39;00m\u001b[38;5;21;01mauth\u001b[39;00m \u001b[38;5;28;01mimport\u001b[39;00m PlainTextAuthProvider\n\u001b[1;32m----> 7\u001b[0m \u001b[38;5;28;01mfrom\u001b[39;00m \u001b[38;5;21;01mcassandra\u001b[39;00m\u001b[38;5;21;01m.\u001b[39;00m\u001b[38;5;21;01mcluster\u001b[39;00m \u001b[38;5;28;01mimport\u001b[39;00m Cluster, Session\n\u001b[0;32m      9\u001b[0m \u001b[38;5;28;01mfrom\u001b[39;00m \u001b[38;5;21;01mcassio\u001b[39;00m\u001b[38;5;21;01m.\u001b[39;00m\u001b[38;5;21;01mconfig\u001b[39;00m\u001b[38;5;21;01m.\u001b[39;00m\u001b[38;5;21;01mbundle_download\u001b[39;00m \u001b[38;5;28;01mimport\u001b[39;00m download_astra_bundle_url\n\u001b[0;32m     10\u001b[0m \u001b[38;5;28;01mfrom\u001b[39;00m \u001b[38;5;21;01mcassio\u001b[39;00m\u001b[38;5;21;01m.\u001b[39;00m\u001b[38;5;21;01mconfig\u001b[39;00m\u001b[38;5;21;01m.\u001b[39;00m\u001b[38;5;21;01mbundle_management\u001b[39;00m \u001b[38;5;28;01mimport\u001b[39;00m (\n\u001b[0;32m     11\u001b[0m     infer_keyspace_from_bundle,\n\u001b[0;32m     12\u001b[0m     init_string_to_bundle_path_and_options,\n\u001b[0;32m     13\u001b[0m )\n",
      "File \u001b[1;32mc:\\Users\\PGUNAGI\\AppData\\Local\\Programs\\Python\\Python312\\Lib\\site-packages\\cassandra\\cluster.py:173\u001b[0m, in \u001b[0;36minit cassandra.cluster\u001b[1;34m()\u001b[0m\n",
      "\u001b[1;31mDependencyException\u001b[0m: Unable to load a default connection class\nThe following exceptions were observed: \n - The C extension needed to use libev was not found.  This probably means that you didn't have the required build dependencies when installing the driver.  See http://datastax.github.io/python-driver/installation.html#c-extensions for instructions on installing build dependencies and building the C extension.\n - Unable to import asyncore module.  Note that this module has been removed in Python 3.12 so when using the driver with this version (or anything newer) you will need to use one of the other event loop implementations."
     ]
    }
   ],
   "source": [
    "import cassio"
   ]
  },
  {
   "cell_type": "code",
   "execution_count": null,
   "metadata": {},
   "outputs": [],
   "source": []
  }
 ],
 "metadata": {
  "kernelspec": {
   "display_name": "Python 3",
   "language": "python",
   "name": "python3"
  },
  "language_info": {
   "codemirror_mode": {
    "name": "ipython",
    "version": 3
   },
   "file_extension": ".py",
   "mimetype": "text/x-python",
   "name": "python",
   "nbconvert_exporter": "python",
   "pygments_lexer": "ipython3",
   "version": "3.12.3"
  }
 },
 "nbformat": 4,
 "nbformat_minor": 2
}
